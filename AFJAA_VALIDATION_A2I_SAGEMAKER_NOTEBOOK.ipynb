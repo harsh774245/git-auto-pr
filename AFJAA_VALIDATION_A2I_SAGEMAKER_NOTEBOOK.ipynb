{
 "cells": [
  {
   "cell_type": "code",
   "execution_count": 1,
   "metadata": {},
   "outputs": [],
   "source": [
    "#Validation for case Disposition through A2I"
   ]
  },
  {
   "cell_type": "code",
   "execution_count": null,
   "metadata": {},
   "outputs": [],
   "source": []
  },
  {
   "cell_type": "code",
   "execution_count": 2,
   "metadata": {},
   "outputs": [],
   "source": [
    "#import the libraries\n",
    "import sagemaker\n",
    "import boto3\n",
    "import pickle,os\n",
    "from bs4 import BeautifulSoup\n",
    "import pyarrow.parquet as pq\n",
    "import numpy as np\n",
    "import pandas as pd\n",
    "import io\n",
    "import re\n",
    "import pprint\n",
    "import uuid\n",
    "import time\n",
    "import json\n",
    "from sklearn.feature_extraction.text import TfidfVectorizer\n",
    "from sagemaker import get_execution_role\n",
    "from s3fs.core import S3FileSystem\n",
    "from bs4 import BeautifulSoup\n",
    "import boto3\n",
    "from botocore.exceptions import ClientError"
   ]
  },
  {
   "cell_type": "code",
   "execution_count": 3,
   "metadata": {},
   "outputs": [],
   "source": [
    "#INPUT BUCKET\n",
    "BUCKET = \"wk-poc\"\n",
    "PREFIX_FIRST = \"Validation_A2I/\"\n",
    "BUCKET_output = 'wk-poc'\n",
    "OUTPUT_PATH = f's3://{BUCKET_output}/a2i-results'\n",
    "REGION_NAME ='us-east-1'\n",
    "TASK_TIME =60\n",
    "NEW_PREFIX = 'Archival/'\n",
    "s3 = boto3.resource('s3')\n",
    "OLD_BUCKET = s3.Bucket(BUCKET)\n",
    "NEW_BUCKET= s3.Bucket(BUCKET)\n",
    "NUM_OF_BATCH =3\n"
   ]
  },
  {
   "cell_type": "code",
   "execution_count": 4,
   "metadata": {},
   "outputs": [],
   "source": [
    "SENDER = \"saurabh.paal@outlook.com\"\n",
    "RECIPIENT_LIST = [\"Sourabh.Pal@wolterskluwer.com\"]\n",
    "CLIENT_NOTIFICATION = boto3.client('ses',region_name=REGION_NAME)\n",
    "TIMESTAMP = time.strftime(\"%Y-%m-%d-%H-%M\", time.gmtime())\n",
    "TIMESTAMP_EMAIL_SENDER = time.strftime(\"%Y-%m-%d\", time.gmtime())"
   ]
  },
  {
   "cell_type": "code",
   "execution_count": 5,
   "metadata": {},
   "outputs": [],
   "source": [
    "REGION = boto3.session.Session().region_name\n",
    "session = boto3.session.Session(region_name= REGION_NAME)\n",
    "client = session.client('s3')"
   ]
  },
  {
   "cell_type": "code",
   "execution_count": 6,
   "metadata": {},
   "outputs": [],
   "source": [
    "role=sagemaker.get_execution_role()  \n",
    "s3_file = S3FileSystem()\n",
    "get_folder_objects = client.list_objects_v2(\n",
    "        Bucket = BUCKET,\n",
    "        Prefix = PREFIX_FIRST\n",
    "      )"
   ]
  },
  {
   "cell_type": "code",
   "execution_count": 7,
   "metadata": {},
   "outputs": [],
   "source": [
    "# EXTRACTING THE DATA FROM INPUT BUCKET\n",
    "filenames = []\n",
    "List_of_files = []\n",
    "\n",
    "for file_name in get_folder_objects['Contents']:    \n",
    "    file_key=file_name['Key']\n",
    "    \n",
    "    filenames.append(file_key)\n",
    "    #print(file_key)\n",
    "    data_location = 's3://{}/{}'.format(BUCKET, file_key)\n",
    "    List_of_files.append(data_location)\n",
    "\n",
    "del (filenames[0])\n",
    "del (List_of_files[0])\n",
    "\n",
    "\n",
    "\n"
   ]
  },
  {
   "cell_type": "code",
   "execution_count": 8,
   "metadata": {},
   "outputs": [
    {
     "data": {
      "text/plain": [
       "['s3://wk-poc/Validation_A2I/100.parquet',\n",
       " 's3://wk-poc/Validation_A2I/101.parquet',\n",
       " 's3://wk-poc/Validation_A2I/102.parquet',\n",
       " 's3://wk-poc/Validation_A2I/103.parquet',\n",
       " 's3://wk-poc/Validation_A2I/104.parquet',\n",
       " 's3://wk-poc/Validation_A2I/105.parquet',\n",
       " 's3://wk-poc/Validation_A2I/106.parquet',\n",
       " 's3://wk-poc/Validation_A2I/107.parquet',\n",
       " 's3://wk-poc/Validation_A2I/108.parquet',\n",
       " 's3://wk-poc/Validation_A2I/109.parquet',\n",
       " 's3://wk-poc/Validation_A2I/110.parquet',\n",
       " 's3://wk-poc/Validation_A2I/111.parquet']"
      ]
     },
     "execution_count": 8,
     "metadata": {},
     "output_type": "execute_result"
    }
   ],
   "source": [
    "List_of_files"
   ]
  },
  {
   "cell_type": "code",
   "execution_count": 9,
   "metadata": {},
   "outputs": [],
   "source": [
    "def Batching_for_dataframes(number_of_batch):\n",
    "    lst=List_of_files\n",
    "    temp_list = []\n",
    "    df_batch_list = []\n",
    "    for file in lst:\n",
    "        temp_list.append(pd.read_parquet(file).astype(str))\n",
    "    df = pd.concat(temp_list).reset_index(drop=True)\n",
    "    df_batch_list = np.array_split(df, number_of_batch)\n",
    "        \n",
    "    return df_batch_list"
   ]
  },
  {
   "cell_type": "code",
   "execution_count": 10,
   "metadata": {},
   "outputs": [],
   "source": [
    "\n",
    "def Batching_for_dataframes(number_of_batch):\n",
    "    lst=List_of_files\n",
    "    \n",
    "    batch = [lst[i:i + number_of_batch] for i in range(0, len(lst), number_of_batch)]\n",
    "    \n",
    "    list_of_files_ = batch[:1][0]\n",
    "    dfs = {i:pd.read_parquet(file) for i,file in enumerate(list_of_files_)}\n",
    "    main_df = pd.concat(dfs.values())\n",
    "    main_df['index'] = range(len(main_df))\n",
    "    main_df.set_index('index',inplace=True)\n",
    "\n",
    "    range_of_data=len(main_df)\n",
    "\n",
    "    for file in batch:\n",
    "        print('file read',file)\n",
    "        for file_key in file:\n",
    "            print(file_key)\n",
    "#         copy files from old folder to new folder\n",
    "            obj_key = file_key[12:]\n",
    "            print(\"obj_key\",obj_key)\n",
    "\n",
    "            old_source = { 'Bucket': BUCKET,\n",
    "                               'Key': obj_key}\n",
    "            \n",
    "            new_key = obj_key.replace(PREFIX_FIRST, NEW_PREFIX, 1)\n",
    "            print(new_key)\n",
    "            new_obj = NEW_BUCKET.Object(new_key)\n",
    "            new_obj.copy(old_source)\n",
    "            #print('new key: {} \\n old key: {}'.format(obj_key,new_key))\n",
    "#         delete files from old folder\n",
    "#             obj = s3.Object(BUCKET, obj_key)\n",
    "#             obj.delete()\n",
    "            #print('\\n\\nobject with key {} deleted from {}'.format(obj_key,old_bucket_name))\n",
    "        return main_df,range_of_data\n",
    "   "
   ]
  },
  {
   "cell_type": "code",
   "execution_count": 11,
   "metadata": {},
   "outputs": [],
   "source": [
    "# lst=List_of_files\n",
    "    \n",
    "# batch = [lst[i:i + 2] for i in range(0, len(lst), 2)]\n",
    "\n",
    "# list_of_files_ = batch[:1][0]\n",
    "# dfs = {i:pd.read_parquet(file) for i,file in enumerate(list_of_files_)}\n",
    "\n",
    "# main_df = pd.concat(dfs.values())\n",
    "# main_df['index'] = range(len(main_df))\n",
    "# main_df.set_index('index',inplace=True)\n",
    "# main_df[\"summary\"]=main_df[\"summary\"][1][1000:]\n",
    "# range_of_data=len(main_df)"
   ]
  },
  {
   "cell_type": "code",
   "execution_count": 12,
   "metadata": {},
   "outputs": [
    {
     "name": "stdout",
     "output_type": "stream",
     "text": [
      "file read ['s3://wk-poc/Validation_A2I/100.parquet', 's3://wk-poc/Validation_A2I/101.parquet', 's3://wk-poc/Validation_A2I/102.parquet']\n",
      "s3://wk-poc/Validation_A2I/100.parquet\n",
      "obj_key Validation_A2I/100.parquet\n",
      "Archival/100.parquet\n",
      "s3://wk-poc/Validation_A2I/101.parquet\n",
      "obj_key Validation_A2I/101.parquet\n",
      "Archival/101.parquet\n",
      "s3://wk-poc/Validation_A2I/102.parquet\n",
      "obj_key Validation_A2I/102.parquet\n",
      "Archival/102.parquet\n"
     ]
    }
   ],
   "source": [
    "main_df,range_of_data = Batching_for_dataframes(NUM_OF_BATCH)"
   ]
  },
  {
   "cell_type": "code",
   "execution_count": null,
   "metadata": {},
   "outputs": [],
   "source": []
  },
  {
   "cell_type": "code",
   "execution_count": 13,
   "metadata": {},
   "outputs": [
    {
     "data": {
      "text/html": [
       "<div>\n",
       "<style scoped>\n",
       "    .dataframe tbody tr th:only-of-type {\n",
       "        vertical-align: middle;\n",
       "    }\n",
       "\n",
       "    .dataframe tbody tr th {\n",
       "        vertical-align: top;\n",
       "    }\n",
       "\n",
       "    .dataframe thead th {\n",
       "        text-align: right;\n",
       "    }\n",
       "</style>\n",
       "<table border=\"1\" class=\"dataframe\">\n",
       "  <thead>\n",
       "    <tr style=\"text-align: right;\">\n",
       "      <th></th>\n",
       "      <th>generator</th>\n",
       "      <th>collection</th>\n",
       "      <th>nbccite</th>\n",
       "      <th>party_name</th>\n",
       "      <th>court_date</th>\n",
       "      <th>docket_no</th>\n",
       "      <th>case_date</th>\n",
       "      <th>case_date1</th>\n",
       "      <th>court</th>\n",
       "      <th>court1</th>\n",
       "      <th>...</th>\n",
       "      <th>series0</th>\n",
       "      <th>page0</th>\n",
       "      <th>cite_check_count</th>\n",
       "      <th>all_page_nos</th>\n",
       "      <th>appeal_info</th>\n",
       "      <th>volume1</th>\n",
       "      <th>series1</th>\n",
       "      <th>page1</th>\n",
       "      <th>disposition_keywords</th>\n",
       "      <th>prediction_probability</th>\n",
       "    </tr>\n",
       "    <tr>\n",
       "      <th>index</th>\n",
       "      <th></th>\n",
       "      <th></th>\n",
       "      <th></th>\n",
       "      <th></th>\n",
       "      <th></th>\n",
       "      <th></th>\n",
       "      <th></th>\n",
       "      <th></th>\n",
       "      <th></th>\n",
       "      <th></th>\n",
       "      <th></th>\n",
       "      <th></th>\n",
       "      <th></th>\n",
       "      <th></th>\n",
       "      <th></th>\n",
       "      <th></th>\n",
       "      <th></th>\n",
       "      <th></th>\n",
       "      <th></th>\n",
       "      <th></th>\n",
       "      <th></th>\n",
       "    </tr>\n",
       "  </thead>\n",
       "  <tbody>\n",
       "    <tr>\n",
       "      <th>0</th>\n",
       "      <td>HTML Tidy for Windows (vers 14 October 2008), ...</td>\n",
       "      <td>FED01CASEF3D</td>\n",
       "      <td>&lt;NA&gt;</td>\n",
       "      <td>Hayat SINDI, Plaintiff, Appellee, v. Samia EL-...</td>\n",
       "      <td>&lt;NA&gt;</td>\n",
       "      <td>16-2347</td>\n",
       "      <td>20180711</td>\n",
       "      <td>2018/07/11</td>\n",
       "      <td>United States Court of Appeals, First Circuit</td>\n",
       "      <td>United States Court of Appeals, First Circuit</td>\n",
       "      <td>...</td>\n",
       "      <td>F.3d</td>\n",
       "      <td>1</td>\n",
       "      <td>&lt;NA&gt;</td>\n",
       "      <td>896 F.3d 1, 896 F.3d 2, 896 F.3d 3, 896 F.3d 4...</td>\n",
       "      <td>APPEAL FROM THE UNITED STATES DISTRICT COURT F...</td>\n",
       "      <td>&lt;NA&gt;</td>\n",
       "      <td>&lt;NA&gt;</td>\n",
       "      <td>&lt;NA&gt;</td>\n",
       "      <td>vacated</td>\n",
       "      <td>61.210812</td>\n",
       "    </tr>\n",
       "    <tr>\n",
       "      <th>1</th>\n",
       "      <td>HTML Tidy for Windows (vers 14 October 2008), ...</td>\n",
       "      <td>FED02CASEF3D</td>\n",
       "      <td>&lt;NA&gt;</td>\n",
       "      <td>ANDERSON NEWS, L.L.C., Plaintiff-Counter-Defen...</td>\n",
       "      <td>&lt;NA&gt;</td>\n",
       "      <td>15-2714-cv(L), 15-2889-cv(XAP), 15-2894-cv(XAP...</td>\n",
       "      <td>20180719</td>\n",
       "      <td>2018/07/19</td>\n",
       "      <td>United States Court of Appeals, Second Circuit</td>\n",
       "      <td>United States Court of Appeals, Second Circuit</td>\n",
       "      <td>...</td>\n",
       "      <td>F.3d</td>\n",
       "      <td>87</td>\n",
       "      <td>&lt;NA&gt;</td>\n",
       "      <td>899 F.3d 87, 899 F.3d 88, 899 F.3d 89, 899 F.3...</td>\n",
       "      <td>&lt;NA&gt;</td>\n",
       "      <td>&lt;NA&gt;</td>\n",
       "      <td>&lt;NA&gt;</td>\n",
       "      <td>&lt;NA&gt;</td>\n",
       "      <td>reversed</td>\n",
       "      <td>26.029163</td>\n",
       "    </tr>\n",
       "    <tr>\n",
       "      <th>2</th>\n",
       "      <td>HTML Tidy for Windows (vers 14 October 2008), ...</td>\n",
       "      <td>FEDCASEUSPQ</td>\n",
       "      <td>&lt;NA&gt;</td>\n",
       "      <td>IN RE STEPHEN W. COMISKEY</td>\n",
       "      <td>&lt;NA&gt;</td>\n",
       "      <td>2006-1286</td>\n",
       "      <td>20090113</td>\n",
       "      <td>2009/01/13</td>\n",
       "      <td>United States Court of Appeals, Federal Circuit</td>\n",
       "      <td>United States Court of Appeals, Federal Circuit</td>\n",
       "      <td>...</td>\n",
       "      <td>U.S.P.Q.2d</td>\n",
       "      <td>1641</td>\n",
       "      <td>&lt;NA&gt;</td>\n",
       "      <td>89 U.S.P.Q.2d 1641, 89 U.S.P.Q.2d 1642, 89 U.S...</td>\n",
       "      <td>&lt;NA&gt;</td>\n",
       "      <td>&lt;NA&gt;</td>\n",
       "      <td>&lt;NA&gt;</td>\n",
       "      <td>&lt;NA&gt;</td>\n",
       "      <td>remanded</td>\n",
       "      <td>26.284885</td>\n",
       "    </tr>\n",
       "  </tbody>\n",
       "</table>\n",
       "<p>3 rows × 63 columns</p>\n",
       "</div>"
      ],
      "text/plain": [
       "                                               generator    collection  \\\n",
       "index                                                                    \n",
       "0      HTML Tidy for Windows (vers 14 October 2008), ...  FED01CASEF3D   \n",
       "1      HTML Tidy for Windows (vers 14 October 2008), ...  FED02CASEF3D   \n",
       "2      HTML Tidy for Windows (vers 14 October 2008), ...   FEDCASEUSPQ   \n",
       "\n",
       "      nbccite                                         party_name court_date  \\\n",
       "index                                                                         \n",
       "0        <NA>  Hayat SINDI, Plaintiff, Appellee, v. Samia EL-...       <NA>   \n",
       "1        <NA>  ANDERSON NEWS, L.L.C., Plaintiff-Counter-Defen...       <NA>   \n",
       "2        <NA>                          IN RE STEPHEN W. COMISKEY       <NA>   \n",
       "\n",
       "                                               docket_no case_date  \\\n",
       "index                                                                \n",
       "0                                                16-2347  20180711   \n",
       "1      15-2714-cv(L), 15-2889-cv(XAP), 15-2894-cv(XAP...  20180719   \n",
       "2                                              2006-1286  20090113   \n",
       "\n",
       "       case_date1                                            court  \\\n",
       "index                                                                \n",
       "0      2018/07/11    United States Court of Appeals, First Circuit   \n",
       "1      2018/07/19   United States Court of Appeals, Second Circuit   \n",
       "2      2009/01/13  United States Court of Appeals, Federal Circuit   \n",
       "\n",
       "                                                court1  ...     series0 page0  \\\n",
       "index                                                   ...                     \n",
       "0        United States Court of Appeals, First Circuit  ...        F.3d     1   \n",
       "1       United States Court of Appeals, Second Circuit  ...        F.3d    87   \n",
       "2      United States Court of Appeals, Federal Circuit  ...  U.S.P.Q.2d  1641   \n",
       "\n",
       "      cite_check_count                                       all_page_nos  \\\n",
       "index                                                                       \n",
       "0                 <NA>  896 F.3d 1, 896 F.3d 2, 896 F.3d 3, 896 F.3d 4...   \n",
       "1                 <NA>  899 F.3d 87, 899 F.3d 88, 899 F.3d 89, 899 F.3...   \n",
       "2                 <NA>  89 U.S.P.Q.2d 1641, 89 U.S.P.Q.2d 1642, 89 U.S...   \n",
       "\n",
       "                                             appeal_info volume1 series1  \\\n",
       "index                                                                      \n",
       "0      APPEAL FROM THE UNITED STATES DISTRICT COURT F...    <NA>    <NA>   \n",
       "1                                                   <NA>    <NA>    <NA>   \n",
       "2                                                   <NA>    <NA>    <NA>   \n",
       "\n",
       "      page1 disposition_keywords prediction_probability  \n",
       "index                                                    \n",
       "0      <NA>              vacated              61.210812  \n",
       "1      <NA>             reversed              26.029163  \n",
       "2      <NA>             remanded              26.284885  \n",
       "\n",
       "[3 rows x 63 columns]"
      ]
     },
     "execution_count": 13,
     "metadata": {},
     "output_type": "execute_result"
    }
   ],
   "source": [
    "main_df"
   ]
  },
  {
   "cell_type": "code",
   "execution_count": 14,
   "metadata": {},
   "outputs": [],
   "source": [
    "#Private workflow ARN\n",
    "WORKTEAM_ARN= \"arn:aws:sagemaker:us-east-1:964662317001:workteam/private-crowd/case-validation\"\n"
   ]
  },
  {
   "cell_type": "code",
   "execution_count": 15,
   "metadata": {},
   "outputs": [],
   "source": [
    "# Amazon SageMaker client\n",
    "sagemaker_client = boto3.client('sagemaker', REGION)\n",
    "\n",
    "# Amazon Augment AI (A2I) client\n",
    "a2i = boto3.client('sagemaker-a2i-runtime')\n",
    "\n",
    "# Amazon S3 client \n",
    "s3 = boto3.client('s3', REGION)\n",
    "\n",
    "flowDefinitionName = 'wk-validation-case-deposition-demo-' +TIMESTAMP\n",
    "\n",
    "# Task UI name - this value is unique per account and REGION. You can also provide your own value here.\n",
    "taskUIName = 'ui-sagemaker-tabular-data-' + TIMESTAMP "
   ]
  },
  {
   "cell_type": "code",
   "execution_count": 16,
   "metadata": {},
   "outputs": [],
   "source": [
    "#create the UI template for a2i\n",
    "template = r\"\"\"\n",
    "<script src=\"https://assets.crowd.aws/crowd-html-elements.js\"></script>\n",
    "\n",
    "<style>\n",
    "  table, tr, th, td {\n",
    "    border: 1px solid black;\n",
    "    border-collapse: collapse;\n",
    "    padding: 5px;\n",
    "  }\n",
    "</style>\n",
    "<script> \n",
    "  function enable(opt_dis,index){\n",
    "    var btn_val = document.getElementById(\"label\"+ index);\n",
    "    btn_val.disabled = opt_dis.checked ? false: true;\n",
    "    if(!btn_val.disabled){\n",
    "      btn_val.focus();\n",
    "    }\n",
    "  }\n",
    "  function disable(opt_agr,index){\n",
    "    var btn_val = document.getElementById(\"label\"+ index);\n",
    "    btn_val.disabled = opt_dis.checked ? false: true;\n",
    "    if(!btn_val.disabled){\n",
    "      btn_val.focus();\n",
    "    }\n",
    "  }\n",
    "\n",
    "</script>  \n",
    "\n",
    "<crowd-form>\n",
    "    <h1 class=\"center\">Validation For Case Deposition</h1>\n",
    "    <style> \n",
    "            body { \n",
    "                text-align:center; \n",
    "            } \n",
    "            h1 { \n",
    "                color:black; \n",
    "            } \n",
    "    </style>\n",
    "    <div>\n",
    "        <h1>Instructions</h1>\n",
    "        <p>Please review the predictions in the Predictions table based on the input data table below, and make corrections where appropriate. </p>\n",
    "        \n",
    "    </div>\n",
    "    \n",
    "    <br>\n",
    "    <h1> Predictions Table </h1>\n",
    "    <style> \n",
    "            body { \n",
    "                text-align:center; \n",
    "            } \n",
    "            h1 { \n",
    "                color:black; \n",
    "            } \n",
    "    </style>\n",
    "    <table>\n",
    "      <tr>\n",
    "        <th>ROW NUMBER</th> \n",
    "        <th>Case_ID</th>\n",
    "        <th>Summary</th>\n",
    "        <th>MODEL PREDICTION</th>        \n",
    "        <th>AGREE/DISAGREE WITH ML RATING?</th>\n",
    "        <th>YOUR PREDICTION</th>\n",
    "        <th>CHANGE REASON </th>\n",
    "      </tr>\n",
    "\n",
    "      {% for pair in task.input.Pairs %}\n",
    "\n",
    "           \n",
    "          <tr>\n",
    "          <td>{{ pair.row }}</td>\n",
    "          <td><crowd-text-area name=\"case_id{{ forloop.index }}\" value=\"{{ pair.case_id }}\"></crowd-text-area>\n",
    "          <td><crowd-text-area name=\"text{{ forloop.index }}\" value=\"{{ pair.text }}\"></crowd-text-area>          \n",
    "          <td><crowd-text-area name=\"predicted{{ forloop.index }}\" value=\"{{ pair.prediction }}\"></crowd-text-area></td>\n",
    "          \n",
    "          <td>\n",
    "            <p>\n",
    "              <input type=\"radio\" id=\"opt_agr\" name=\"rating{{ forloop.index }}\" value=\"agree\" onclick=\"disable(this,{{ forloop.index }})\" >\n",
    "              <label for=\"agree{{ forloop.index }}\">Agree</label>\n",
    "            </p>\n",
    "            <p>\n",
    "              <input type=\"radio\" id=\"opt_dis\" name=\"rating{{ forloop.index }}\" value=\"disagree\" onclick=\"enable(this,{{ forloop.index }})\">\n",
    "              <label for=\"disagree{{ forloop.index }}\">Disagree</label>       \n",
    "             </td>\n",
    "         </p>\n",
    "         <td>\n",
    "            \n",
    "             <select name=Human_answer{{ forloop.index }} id=\"label{{ forloop.index }}\" disabled=\"disabled\" required>\n",
    "                <option value=\"\">Choose a Label</option>\n",
    "                <option value=\"Affirmed\" >Affirmed</option>  \n",
    "                <option value=\"Reversed\">Reversed</option>\n",
    "                <option value=\"Denied\">Denied</option>\n",
    "                <option value=\"Remanded\">Remanded</option>\n",
    "                <option value=\"Vacated\">Vacated</option>\n",
    "                <option value=\"Dismised\">Dismised</option>\n",
    "                <option value=\"Rejected\">Rejcted</option>\n",
    "                <option value=\"Granted\">Granted</option>\n",
    "                <option value=\"Amended\">Amended</option>\n",
    "                <option value=\"Afirmed in part\">Afirmed in part</option>     \n",
    "                \n",
    "                \n",
    "            \n",
    "          </td>\n",
    "          <td>\n",
    "            <p>\n",
    "            <input type=\"text\" name=\"Change Reason{{ forloop.index }}\" placeholder=\"Explain why you changed the prediction\"/>\n",
    "            </p>\n",
    "           </td>\n",
    "          \n",
    "        </tr>\n",
    "\n",
    "      {% endfor %}\n",
    "\n",
    "    </table>\n",
    "   \n",
    "   \n",
    "  \n",
    "</crowd-form>\n",
    "\n",
    "\n",
    "\n",
    "\"\"\"\n",
    "\n",
    "#create the response for a2i \n",
    "def create_task_ui():\n",
    "    '''\n",
    "    Creates a Human Task UI resource.\n",
    "\n",
    "    Returns:\n",
    "    struct: HumanTaskUiArn\n",
    "    '''\n",
    "    response = sagemaker_client.create_human_task_ui(\n",
    "        HumanTaskUiName=taskUIName,\n",
    "        UiTemplate={'Content': template})\n",
    "    return response"
   ]
  },
  {
   "cell_type": "code",
   "execution_count": 17,
   "metadata": {},
   "outputs": [
    {
     "name": "stdout",
     "output_type": "stream",
     "text": [
      "arn:aws:sagemaker:us-east-1:964662317001:human-task-ui/ui-sagemaker-tabular-data-2021-02-22-14-43\n"
     ]
    }
   ],
   "source": [
    "# Create task UI\n",
    "humanTaskUiResponse = create_task_ui()\n",
    "humanTaskUiArn = humanTaskUiResponse['HumanTaskUiArn']\n",
    "print(humanTaskUiArn)"
   ]
  },
  {
   "cell_type": "code",
   "execution_count": 18,
   "metadata": {},
   "outputs": [],
   "source": [
    "##creating flow definition\n",
    "create_workflow_definition_response = sagemaker_client.create_flow_definition(\n",
    "        FlowDefinitionName= flowDefinitionName,\n",
    "        RoleArn= role,\n",
    "        HumanLoopConfig= {\n",
    "            \"WorkteamArn\": WORKTEAM_ARN,\n",
    "            \"HumanTaskUiArn\": humanTaskUiArn,\n",
    "            \"TaskCount\": 1,\n",
    "            \"TaskDescription\": \"Make sure the disposition_keywords are correct\",\n",
    "            \"TaskTitle\": \"AFJAA-validation-for-case-deposition\" + TIMESTAMP\n",
    "        },\n",
    "        OutputConfig={\n",
    "            \"S3OutputPath\" : OUTPUT_PATH\n",
    "        }\n",
    "    )\n",
    "flowDefinitionArn = create_workflow_definition_response['FlowDefinitionArn']"
   ]
  },
  {
   "cell_type": "code",
   "execution_count": 19,
   "metadata": {},
   "outputs": [
    {
     "data": {
      "text/plain": [
       "{'FlowDefinitionArn': 'arn:aws:sagemaker:us-east-1:964662317001:flow-definition/wk-validation-case-deposition-demo-2021-02-22-14-43',\n",
       " 'ResponseMetadata': {'RequestId': 'fc4247eb-f55b-4570-a4de-ae0aaed8e9fe',\n",
       "  'HTTPStatusCode': 200,\n",
       "  'HTTPHeaders': {'x-amzn-requestid': 'fc4247eb-f55b-4570-a4de-ae0aaed8e9fe',\n",
       "   'content-type': 'application/x-amz-json-1.1',\n",
       "   'content-length': '132',\n",
       "   'date': 'Mon, 22 Feb 2021 14:43:24 GMT'},\n",
       "  'RetryAttempts': 0}}"
      ]
     },
     "execution_count": 19,
     "metadata": {},
     "output_type": "execute_result"
    }
   ],
   "source": [
    "create_workflow_definition_response"
   ]
  },
  {
   "cell_type": "code",
   "execution_count": 20,
   "metadata": {},
   "outputs": [
    {
     "name": "stdout",
     "output_type": "stream",
     "text": [
      "Initializing\n",
      "Active\n",
      "Flow Definition is active\n"
     ]
    }
   ],
   "source": [
    "# Make the flow definition an intialize the same\n",
    "for x in range(TASK_TIME):\n",
    "    describeFlowDefinitionResponse = sagemaker_client.describe_flow_definition(FlowDefinitionName=flowDefinitionName)\n",
    "    print(describeFlowDefinitionResponse['FlowDefinitionStatus'])\n",
    "    if (describeFlowDefinitionResponse['FlowDefinitionStatus'] == 'Active'):\n",
    "        print(\"Flow Definition is active\")\n",
    "        break\n",
    "    time.sleep(2)"
   ]
  },
  {
   "cell_type": "code",
   "execution_count": 21,
   "metadata": {},
   "outputs": [
    {
     "ename": "KeyError",
     "evalue": "\"['disposition_keyword'] not in index\"",
     "output_type": "error",
     "traceback": [
      "\u001b[0;31m---------------------------------------------------------------------------\u001b[0m",
      "\u001b[0;31mKeyError\u001b[0m                                  Traceback (most recent call last)",
      "\u001b[0;32m<ipython-input-21-e846fa663804>\u001b[0m in \u001b[0;36m<module>\u001b[0;34m\u001b[0m\n\u001b[1;32m      1\u001b[0m \u001b[0;31m#selecting the ItemList for UI\u001b[0m\u001b[0;34m\u001b[0m\u001b[0;34m\u001b[0m\u001b[0;34m\u001b[0m\u001b[0m\n\u001b[0;32m----> 2\u001b[0;31m \u001b[0mmain_df\u001b[0m \u001b[0;34m=\u001b[0m \u001b[0mmain_df\u001b[0m\u001b[0;34m[\u001b[0m\u001b[0;34m[\u001b[0m\u001b[0;34m'uid'\u001b[0m\u001b[0;34m,\u001b[0m\u001b[0;34m'short_summary'\u001b[0m\u001b[0;34m,\u001b[0m\u001b[0;34m'disposition_keyword'\u001b[0m\u001b[0;34m]\u001b[0m\u001b[0;34m]\u001b[0m\u001b[0;34m.\u001b[0m\u001b[0mreset_index\u001b[0m\u001b[0;34m(\u001b[0m\u001b[0mdrop\u001b[0m\u001b[0;34m=\u001b[0m\u001b[0;32mTrue\u001b[0m\u001b[0;34m)\u001b[0m\u001b[0;34m\u001b[0m\u001b[0;34m\u001b[0m\u001b[0m\n\u001b[0m\u001b[1;32m      3\u001b[0m \u001b[0mitem_list\u001b[0m \u001b[0;34m=\u001b[0m \u001b[0;34m[\u001b[0m\u001b[0;34m{\u001b[0m\u001b[0;34m'row'\u001b[0m\u001b[0;34m:\u001b[0m \u001b[0;34m\"{}\"\u001b[0m\u001b[0;34m.\u001b[0m\u001b[0mformat\u001b[0m\u001b[0;34m(\u001b[0m\u001b[0mx\u001b[0m\u001b[0;34m)\u001b[0m\u001b[0;34m,\u001b[0m\u001b[0;34m\"text\"\u001b[0m\u001b[0;34m:\u001b[0m\u001b[0mmain_df\u001b[0m\u001b[0;34m.\u001b[0m\u001b[0mshort_summary\u001b[0m\u001b[0;34m[\u001b[0m\u001b[0mx\u001b[0m\u001b[0;34m]\u001b[0m\u001b[0;34m,\u001b[0m\u001b[0;34m\"case_id\"\u001b[0m\u001b[0;34m:\u001b[0m \u001b[0mmain_df\u001b[0m\u001b[0;34m.\u001b[0m\u001b[0muid\u001b[0m\u001b[0;34m[\u001b[0m\u001b[0mx\u001b[0m\u001b[0;34m]\u001b[0m\u001b[0;34m,\u001b[0m \u001b[0;34m'prediction'\u001b[0m\u001b[0;34m:\u001b[0m \u001b[0mmain_df\u001b[0m\u001b[0;34m.\u001b[0m\u001b[0mdisposition_keyword\u001b[0m\u001b[0;34m[\u001b[0m\u001b[0mx\u001b[0m\u001b[0;34m]\u001b[0m\u001b[0;34m}\u001b[0m \u001b[0;32mfor\u001b[0m \u001b[0mx\u001b[0m \u001b[0;32min\u001b[0m \u001b[0mrange\u001b[0m\u001b[0;34m(\u001b[0m\u001b[0mrange_of_data\u001b[0m\u001b[0;34m)\u001b[0m\u001b[0;34m]\u001b[0m\u001b[0;34m\u001b[0m\u001b[0;34m\u001b[0m\u001b[0m\n\u001b[1;32m      4\u001b[0m ip_content = {\"table\": main_df.head(range_of_data).to_html(), \n\u001b[1;32m      5\u001b[0m           \u001b[0;34m'Pairs'\u001b[0m\u001b[0;34m:\u001b[0m \u001b[0mitem_list\u001b[0m\u001b[0;34m\u001b[0m\u001b[0;34m\u001b[0m\u001b[0m\n",
      "\u001b[0;32m~/anaconda3/envs/tensorflow2_p36/lib/python3.6/site-packages/pandas/core/frame.py\u001b[0m in \u001b[0;36m__getitem__\u001b[0;34m(self, key)\u001b[0m\n\u001b[1;32m   2910\u001b[0m             \u001b[0;32mif\u001b[0m \u001b[0mis_iterator\u001b[0m\u001b[0;34m(\u001b[0m\u001b[0mkey\u001b[0m\u001b[0;34m)\u001b[0m\u001b[0;34m:\u001b[0m\u001b[0;34m\u001b[0m\u001b[0;34m\u001b[0m\u001b[0m\n\u001b[1;32m   2911\u001b[0m                 \u001b[0mkey\u001b[0m \u001b[0;34m=\u001b[0m \u001b[0mlist\u001b[0m\u001b[0;34m(\u001b[0m\u001b[0mkey\u001b[0m\u001b[0;34m)\u001b[0m\u001b[0;34m\u001b[0m\u001b[0;34m\u001b[0m\u001b[0m\n\u001b[0;32m-> 2912\u001b[0;31m             \u001b[0mindexer\u001b[0m \u001b[0;34m=\u001b[0m \u001b[0mself\u001b[0m\u001b[0;34m.\u001b[0m\u001b[0mloc\u001b[0m\u001b[0;34m.\u001b[0m\u001b[0m_get_listlike_indexer\u001b[0m\u001b[0;34m(\u001b[0m\u001b[0mkey\u001b[0m\u001b[0;34m,\u001b[0m \u001b[0maxis\u001b[0m\u001b[0;34m=\u001b[0m\u001b[0;36m1\u001b[0m\u001b[0;34m,\u001b[0m \u001b[0mraise_missing\u001b[0m\u001b[0;34m=\u001b[0m\u001b[0;32mTrue\u001b[0m\u001b[0;34m)\u001b[0m\u001b[0;34m[\u001b[0m\u001b[0;36m1\u001b[0m\u001b[0;34m]\u001b[0m\u001b[0;34m\u001b[0m\u001b[0;34m\u001b[0m\u001b[0m\n\u001b[0m\u001b[1;32m   2913\u001b[0m \u001b[0;34m\u001b[0m\u001b[0m\n\u001b[1;32m   2914\u001b[0m         \u001b[0;31m# take() does not accept boolean indexers\u001b[0m\u001b[0;34m\u001b[0m\u001b[0;34m\u001b[0m\u001b[0;34m\u001b[0m\u001b[0m\n",
      "\u001b[0;32m~/anaconda3/envs/tensorflow2_p36/lib/python3.6/site-packages/pandas/core/indexing.py\u001b[0m in \u001b[0;36m_get_listlike_indexer\u001b[0;34m(self, key, axis, raise_missing)\u001b[0m\n\u001b[1;32m   1252\u001b[0m             \u001b[0mkeyarr\u001b[0m\u001b[0;34m,\u001b[0m \u001b[0mindexer\u001b[0m\u001b[0;34m,\u001b[0m \u001b[0mnew_indexer\u001b[0m \u001b[0;34m=\u001b[0m \u001b[0max\u001b[0m\u001b[0;34m.\u001b[0m\u001b[0m_reindex_non_unique\u001b[0m\u001b[0;34m(\u001b[0m\u001b[0mkeyarr\u001b[0m\u001b[0;34m)\u001b[0m\u001b[0;34m\u001b[0m\u001b[0;34m\u001b[0m\u001b[0m\n\u001b[1;32m   1253\u001b[0m \u001b[0;34m\u001b[0m\u001b[0m\n\u001b[0;32m-> 1254\u001b[0;31m         \u001b[0mself\u001b[0m\u001b[0;34m.\u001b[0m\u001b[0m_validate_read_indexer\u001b[0m\u001b[0;34m(\u001b[0m\u001b[0mkeyarr\u001b[0m\u001b[0;34m,\u001b[0m \u001b[0mindexer\u001b[0m\u001b[0;34m,\u001b[0m \u001b[0maxis\u001b[0m\u001b[0;34m,\u001b[0m \u001b[0mraise_missing\u001b[0m\u001b[0;34m=\u001b[0m\u001b[0mraise_missing\u001b[0m\u001b[0;34m)\u001b[0m\u001b[0;34m\u001b[0m\u001b[0;34m\u001b[0m\u001b[0m\n\u001b[0m\u001b[1;32m   1255\u001b[0m         \u001b[0;32mreturn\u001b[0m \u001b[0mkeyarr\u001b[0m\u001b[0;34m,\u001b[0m \u001b[0mindexer\u001b[0m\u001b[0;34m\u001b[0m\u001b[0;34m\u001b[0m\u001b[0m\n\u001b[1;32m   1256\u001b[0m \u001b[0;34m\u001b[0m\u001b[0m\n",
      "\u001b[0;32m~/anaconda3/envs/tensorflow2_p36/lib/python3.6/site-packages/pandas/core/indexing.py\u001b[0m in \u001b[0;36m_validate_read_indexer\u001b[0;34m(self, key, indexer, axis, raise_missing)\u001b[0m\n\u001b[1;32m   1302\u001b[0m             \u001b[0;32mif\u001b[0m \u001b[0mraise_missing\u001b[0m\u001b[0;34m:\u001b[0m\u001b[0;34m\u001b[0m\u001b[0;34m\u001b[0m\u001b[0m\n\u001b[1;32m   1303\u001b[0m                 \u001b[0mnot_found\u001b[0m \u001b[0;34m=\u001b[0m \u001b[0mlist\u001b[0m\u001b[0;34m(\u001b[0m\u001b[0mset\u001b[0m\u001b[0;34m(\u001b[0m\u001b[0mkey\u001b[0m\u001b[0;34m)\u001b[0m \u001b[0;34m-\u001b[0m \u001b[0mset\u001b[0m\u001b[0;34m(\u001b[0m\u001b[0max\u001b[0m\u001b[0;34m)\u001b[0m\u001b[0;34m)\u001b[0m\u001b[0;34m\u001b[0m\u001b[0;34m\u001b[0m\u001b[0m\n\u001b[0;32m-> 1304\u001b[0;31m                 \u001b[0;32mraise\u001b[0m \u001b[0mKeyError\u001b[0m\u001b[0;34m(\u001b[0m\u001b[0;34mf\"{not_found} not in index\"\u001b[0m\u001b[0;34m)\u001b[0m\u001b[0;34m\u001b[0m\u001b[0;34m\u001b[0m\u001b[0m\n\u001b[0m\u001b[1;32m   1305\u001b[0m \u001b[0;34m\u001b[0m\u001b[0m\n\u001b[1;32m   1306\u001b[0m             \u001b[0;31m# we skip the warning on Categorical\u001b[0m\u001b[0;34m\u001b[0m\u001b[0;34m\u001b[0m\u001b[0;34m\u001b[0m\u001b[0m\n",
      "\u001b[0;31mKeyError\u001b[0m: \"['disposition_keyword'] not in index\""
     ]
    }
   ],
   "source": [
    "#selecting the ItemList for UI\n",
    "main_df = main_df[['uid','short_summary','disposition_keywords']].reset_index(drop=True)\n",
    "item_list = [{'row': \"{}\".format(x),\"text\":main_df.short_summary[x],\"case_id\": main_df.uid[x], 'prediction': main_df.disposition_keywords[x]} for x in range(range_of_data)]\n",
    "ip_content = {\"table\": main_df.head(range_of_data).to_html(), \n",
    "          'Pairs': item_list\n",
    "         }\n"
   ]
  },
  {
   "cell_type": "code",
   "execution_count": null,
   "metadata": {},
   "outputs": [],
   "source": [
    "import json\n",
    "humanLoopName = str(uuid.uuid4())\n",
    "\n",
    "start_loop_response = a2i.start_human_loop(\n",
    "            HumanLoopName=humanLoopName,\n",
    "            FlowDefinitionArn=flowDefinitionArn,\n",
    "            HumanLoopInput={\n",
    "                \"InputContent\": json.dumps(ip_content)\n",
    "            }\n",
    "        )\n",
    "start_loop_response\n"
   ]
  },
  {
   "cell_type": "code",
   "execution_count": null,
   "metadata": {},
   "outputs": [],
   "source": [
    "start_loop_response"
   ]
  },
  {
   "cell_type": "code",
   "execution_count": null,
   "metadata": {},
   "outputs": [],
   "source": [
    "##checking status for human loop\n",
    " \n",
    "resp = a2i.describe_human_loop(HumanLoopName=humanLoopName)\n",
    "print(f'HumanLoop Name: {humanLoopName}')\n",
    "print(f'HumanLoop Status: {resp[\"HumanLoopStatus\"]}')\n",
    "print(f'HumanLoop Output Destination: {resp[\"HumanLoopOutput\"]}')\n",
    "print('\\n')\n",
    "    \n",
    "if resp[\"HumanLoopStatus\"] == \"Completed\":\n",
    "    completed_human_loops.append(resp)"
   ]
  },
  {
   "cell_type": "code",
   "execution_count": null,
   "metadata": {},
   "outputs": [],
   "source": [
    "resp"
   ]
  },
  {
   "cell_type": "code",
   "execution_count": null,
   "metadata": {
    "scrolled": true
   },
   "outputs": [],
   "source": [
    "workteamName = WORKTEAM_ARN[WORKTEAM_ARN.rfind('/') + 1:]\n",
    "print(\"Navigate to the private worker portal and do the tasks. Make sure you've invited yourself to your workteam!\")\n",
    "print('https://' + sagemaker_client.describe_workteam(WorkteamName=workteamName)['Workteam']['SubDomain'])"
   ]
  },
  {
   "cell_type": "code",
   "execution_count": null,
   "metadata": {},
   "outputs": [],
   "source": []
  },
  {
   "cell_type": "code",
   "execution_count": null,
   "metadata": {},
   "outputs": [],
   "source": [
    "# Try to send the email.https://b7ncf4dyaa.labeling.us-east-1.sagemaker.aws/\n",
    "# The email body for recipients with non-HTML email clients.\n",
    "def email_sent():\n",
    "    \n",
    "    SUBJECT = \"AFJAA || Case Disposition Validation || \"  +TIMESTAMP_EMAIL_SENDER\n",
    "    BODY_TEXT = (\"Hi ,\\n\\n\"\n",
    "                 \"A task is created and it is waiting for response.The below are the task details. \\n\\n\\n\"\n",
    "                 \"Task Title : AFJAA-Validation-For-Case-Disposition. \\n\" \n",
    "                 \"Task Description : Make sure the disposition_keywords are correct  \\n\"\n",
    "                 \"Link to access the document: \"+'https://' + sagemaker_client.describe_workteam(WorkteamName=workteamName)['Workteam']['SubDomain']+\"\\n\\n\\n\"\n",
    "                 \"if the above URL is not working please reach out to Support/DEV team\"\n",
    "\n",
    "                )        \n",
    "\n",
    "    # The character encoding for the email.\n",
    "    CHARSET = \"UTF-8\"\n",
    "\n",
    "    try:\n",
    "        #Provide the contents of the email.\n",
    "        response = CLIENT_NOTIFICATION.send_email(\n",
    "            Destination={\n",
    "                'ToAddresses': [RECIPIENT for RECIPIENT in RECIPIENT_LIST],\n",
    "            },\n",
    "            Message={\n",
    "                'Body': {\n",
    "\n",
    "                    'Text': {\n",
    "                        'Charset': CHARSET,\n",
    "                        'Data': BODY_TEXT,\n",
    "                    },\n",
    "                },\n",
    "                'Subject': {\n",
    "                    'Charset': CHARSET,\n",
    "                    'Data': SUBJECT,\n",
    "                },\n",
    "            },\n",
    "            Source=SENDER,\n",
    "\n",
    "\n",
    "        )\n",
    "\n",
    "    except ClientError as e:\n",
    "        return(e.response['Error']['Message'])\n",
    "    else:\n",
    "        return(\"Email sent! Message ID:\")+ response['MessageId']\n",
    "        "
   ]
  },
  {
   "cell_type": "code",
   "execution_count": null,
   "metadata": {},
   "outputs": [],
   "source": [
    "email_sent()"
   ]
  },
  {
   "cell_type": "code",
   "execution_count": null,
   "metadata": {
    "scrolled": true
   },
   "outputs": [],
   "source": []
  },
  {
   "cell_type": "code",
   "execution_count": null,
   "metadata": {},
   "outputs": [],
   "source": []
  },
  {
   "cell_type": "code",
   "execution_count": null,
   "metadata": {},
   "outputs": [],
   "source": [
    "#  <div style=\"text-align:center\">  \n",
    "#     <crowd-button style=\"margin:25px;\" form-action=\"submit\" variant=\"primary\" data-testid=\"crowd-submit\">SUBMIT</crowd-button>\n",
    "#     </div>"
   ]
  },
  {
   "cell_type": "code",
   "execution_count": null,
   "metadata": {},
   "outputs": [],
   "source": [
    "#TODO--> DUMPING INTO THE BUCKET\n",
    "#MERGE THE OUTPUT TO CURATED BUCKET"
   ]
  }
 ],
 "metadata": {
  "kernelspec": {
   "display_name": "Python 3",
   "language": "python",
   "name": "python3"
  },
  "language_info": {
   "codemirror_mode": {
    "name": "ipython",
    "version": 3
   },
   "file_extension": ".py",
   "mimetype": "text/x-python",
   "name": "python",
   "nbconvert_exporter": "python",
   "pygments_lexer": "ipython3",
   "version": "3.6.9"
  }
 },
 "nbformat": 4,
 "nbformat_minor": 4
}
